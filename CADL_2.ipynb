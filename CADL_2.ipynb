{
 "cells": [
  {
   "cell_type": "code",
   "execution_count": 1,
   "id": "376c7eee-fff0-4d54-92f2-cd386aa0a6dc",
   "metadata": {},
   "outputs": [
    {
     "name": "stderr",
     "output_type": "stream",
     "text": [
      "[nltk_data] Downloading package movie_reviews to C:\\Users\\anitta-\n",
      "[nltk_data]     pc\\AppData\\Roaming\\nltk_data...\n",
      "[nltk_data]   Package movie_reviews is already up-to-date!\n"
     ]
    },
    {
     "name": "stdout",
     "output_type": "stream",
     "text": [
      "Bag of Words Representation (first 5 rows):\n",
      "   000  10  100  11  12  13  13th  14  15  16  ...  york  young  younger  \\\n",
      "0    0   0    0   0   0   0     0   0   0   0  ...     0      2        0   \n",
      "1    0   0    0   0   0   0     0   0   0   0  ...     0      0        0   \n",
      "2    0  16    0   0   0   0     0   0   0   0  ...     0      1        0   \n",
      "3    0   0    0   0   0   0     0   0   0   0  ...     0      1        0   \n",
      "4    0   0    0   0   0   0     0   0   0   0  ...     0      1        0   \n",
      "\n",
      "   youth  zane  zany  zellweger  zero  zeta  zone  \n",
      "0      0     0     0          0     0     0     0  \n",
      "1      0     0     0          0     0     0     0  \n",
      "2      0     0     0          0     0     0     0  \n",
      "3      0     0     0          0     0     0     0  \n",
      "4      0     0     0          0     0     0     0  \n",
      "\n",
      "[5 rows x 5000 columns]\n",
      "\n",
      "TF-IDF Representation (first 5 rows):\n",
      "   000        10  100   11   12   13  13th   14   15   16  ...  york  \\\n",
      "0  0.0  0.000000  0.0  0.0  0.0  0.0   0.0  0.0  0.0  0.0  ...   0.0   \n",
      "1  0.0  0.000000  0.0  0.0  0.0  0.0   0.0  0.0  0.0  0.0  ...   0.0   \n",
      "2  0.0  0.520963  0.0  0.0  0.0  0.0   0.0  0.0  0.0  0.0  ...   0.0   \n",
      "3  0.0  0.000000  0.0  0.0  0.0  0.0   0.0  0.0  0.0  0.0  ...   0.0   \n",
      "4  0.0  0.000000  0.0  0.0  0.0  0.0   0.0  0.0  0.0  0.0  ...   0.0   \n",
      "\n",
      "      young  younger  youth  zane  zany  zellweger  zero  zeta  zone  \n",
      "0  0.067580      0.0    0.0   0.0   0.0        0.0   0.0   0.0   0.0  \n",
      "1  0.000000      0.0    0.0   0.0   0.0        0.0   0.0   0.0   0.0  \n",
      "2  0.022923      0.0    0.0   0.0   0.0        0.0   0.0   0.0   0.0  \n",
      "3  0.021393      0.0    0.0   0.0   0.0        0.0   0.0   0.0   0.0  \n",
      "4  0.030363      0.0    0.0   0.0   0.0        0.0   0.0   0.0   0.0  \n",
      "\n",
      "[5 rows x 5000 columns]\n"
     ]
    }
   ],
   "source": [
    "# Import libraries\n",
    "import nltk\n",
    "from nltk.corpus import movie_reviews\n",
    "import random\n",
    "from sklearn.feature_extraction.text import CountVectorizer, TfidfVectorizer\n",
    "import pandas as pd\n",
    "\n",
    "# Download dataset\n",
    "nltk.download('movie_reviews')\n",
    "\n",
    "# Load movie reviews dataset\n",
    "documents = [(movie_reviews.raw(fileid), category)\n",
    "             for category in movie_reviews.categories()\n",
    "             for fileid in movie_reviews.fileids(category)]\n",
    "\n",
    "# Shuffle documents\n",
    "random.shuffle(documents)\n",
    "\n",
    "# Extract texts and labels\n",
    "texts = [doc for doc, label in documents]\n",
    "labels = [label for doc, label in documents]\n",
    "\n",
    "# --- a. Bag of Words ---\n",
    "bow_vectorizer = CountVectorizer(max_features=5000, stop_words='english')\n",
    "X_bow = bow_vectorizer.fit_transform(texts)\n",
    "\n",
    "# Convert to DataFrame for display\n",
    "bow_df = pd.DataFrame(X_bow.toarray(), columns=bow_vectorizer.get_feature_names_out())\n",
    "print(\"Bag of Words Representation (first 5 rows):\")\n",
    "print(bow_df.head())\n",
    "\n",
    "# --- b. TF-IDF ---\n",
    "tfidf_vectorizer = TfidfVectorizer(max_features=5000, stop_words='english')\n",
    "X_tfidf = tfidf_vectorizer.fit_transform(texts)\n",
    "\n",
    "# Convert to DataFrame for display\n",
    "tfidf_df = pd.DataFrame(X_tfidf.toarray(), columns=tfidf_vectorizer.get_feature_names_out())\n",
    "print(\"\\nTF-IDF Representation (first 5 rows):\")\n",
    "print(tfidf_df.head())\n"
   ]
  }
 ],
 "metadata": {
  "kernelspec": {
   "display_name": "Python 3 (ipykernel)",
   "language": "python",
   "name": "python3"
  },
  "language_info": {
   "codemirror_mode": {
    "name": "ipython",
    "version": 3
   },
   "file_extension": ".py",
   "mimetype": "text/x-python",
   "name": "python",
   "nbconvert_exporter": "python",
   "pygments_lexer": "ipython3",
   "version": "3.11.9"
  }
 },
 "nbformat": 4,
 "nbformat_minor": 5
}
